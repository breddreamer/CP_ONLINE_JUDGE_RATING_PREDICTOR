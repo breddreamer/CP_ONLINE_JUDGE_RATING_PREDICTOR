{
 "cells": [
  {
   "cell_type": "code",
   "execution_count": 1,
   "id": "binding-glance",
   "metadata": {},
   "outputs": [],
   "source": [
    "import warnings\n",
    "warnings.filterwarnings('ignore')\n",
    "\n",
    "import ipywidgets as widgets\n",
    "from IPython.display import display, clear_output"
   ]
  },
  {
   "cell_type": "code",
   "execution_count": 2,
   "id": "informal-powell",
   "metadata": {},
   "outputs": [],
   "source": [
    "#!jupyter nbextension enable --py widgetsnbextension --sys-prefix\n",
    "#!jupyter serverextension enable voila --sys-prefix"
   ]
  },
  {
   "cell_type": "code",
   "execution_count": 3,
   "id": "bearing-lover",
   "metadata": {},
   "outputs": [],
   "source": [
    "# name\n",
    "\n",
    "name = widgets.Text(placeholder='ex: breddreamer')"
   ]
  },
  {
   "cell_type": "code",
   "execution_count": 4,
   "id": "f619bf65",
   "metadata": {
    "scrolled": false
   },
   "outputs": [],
   "source": [
    "#necessary methods and libraries importing\n",
    "import json\n",
    "import requests\n",
    "import numpy as np\n",
    "from sklearn.linear_model import LinearRegression\n",
    "from sklearn.neighbors import KNeighborsRegressor\n",
    "from pylab import *\n"
   ]
  },
  {
   "cell_type": "code",
   "execution_count": 5,
   "id": "thorough-royal",
   "metadata": {},
   "outputs": [],
   "source": [
    "# button send\n",
    "\n",
    "button_send = widgets.Button(\n",
    "                description='Get Prediction',\n",
    "                tooltip='Send',\n",
    "                style={'description_width': 'initial'}\n",
    "            )\n",
    "\n",
    "output = widgets.Output()\n",
    "\n",
    "def on_button_clicked(event):\n",
    "    with output:\n",
    "        clear_output()\n",
    "        print(\"\")\n",
    "        ###herere\n",
    "        #taking handle name from user that will be used to take input from user interface\n",
    "        user_name = name.value\n",
    "\n",
    "        URL = 'https://codeforces.com/api/user.rating'; #setting codeforces api url\n",
    "\n",
    "        PARAMS = {'handle': user_name} #setting user_name as parameter \n",
    "\n",
    "        response = requests.get(url = URL, params = PARAMS).text #initialization of request.get() method for dictionary like info. fetching\n",
    "\n",
    "        response_info = json.loads(response)\n",
    "\n",
    "        response_info\n",
    "\n",
    "        rating_list = ['1500'] #initial rating for any contestant\n",
    "\n",
    "\n",
    "        for userh in response_info['result']:\n",
    "            rating_list.append(userh['newRating'])\n",
    "\n",
    "        contest_list = np.arange(len(rating_list)).reshape(-1,1)  #this is the regressir array that stores the contests for the user\n",
    "\n",
    "        rating_list_arr = np.array(rating_list) #this is the list that contains rating of a contestant in individual contests\n",
    "\n",
    "        model = LinearRegression().fit(contest_list,rating_list_arr) #calling LinearRegression.fit() for best fitting the ratings against their contest number\n",
    "\n",
    "        rating_l_a_nn = np.array(rating_list).reshape(-1,1)\n",
    "\n",
    "        model_nn = KNeighborsRegressor(n_neighbors = 3).fit(contest_list, rating_list_arr) #model using k-nearest neighbor \n",
    "\n",
    "        predicted_score = model.predict(contest_list) #predicted result (almost unnecessary)\n",
    "\n",
    "        contest_number = np.array([len(contest_list)]).reshape(-1,1) #stores the next contest number (upcoming)\n",
    "\n",
    "        predicted_score_new = model.predict(contest_number) #predicted score for upcoming contest\n",
    "\n",
    "        predicted_score_new_nn = model.predict(contest_number) #predicted score using knn algorithm\n",
    "\n",
    "        print(f\"Predicted rating on next contest: {predicted_score_new_nn}, {predicted_score_new}.\")\n",
    "        \n",
    "\n",
    "button_send.on_click(on_button_clicked)\n",
    "\n",
    "vbox_result = widgets.VBox([button_send, output])"
   ]
  },
  {
   "cell_type": "code",
   "execution_count": 6,
   "id": "guilty-ending",
   "metadata": {},
   "outputs": [],
   "source": [
    "# stacked right hand side\n",
    "\n",
    "text_0 = widgets.HTML(value=\"<h1>Online Contest Rating Predictor</h1>\")\n",
    "text_1 = widgets.HTML(value=\"<h2>Enter Codeforces handle:</h2>\")\n",
    "text_2= widgets.HTML(value=\"<h2> </h2>\")\n",
    "\n",
    "vbox_text = widgets.VBox([text_0, text_1, name, text_2, vbox_result])"
   ]
  },
  {
   "cell_type": "code",
   "execution_count": 7,
   "id": "earlier-saturday",
   "metadata": {
    "scrolled": true
   },
   "outputs": [
    {
     "data": {
      "application/vnd.jupyter.widget-view+json": {
       "model_id": "5098cd0cef334c429b38fc4b061d89fc",
       "version_major": 2,
       "version_minor": 0
      },
      "text/plain": [
       "HBox(children=(VBox(children=(HTML(value='<h1>Online Contest Rating Predictor</h1>'), HTML(value='<h2>Enter Co…"
      ]
     },
     "metadata": {},
     "output_type": "display_data"
    }
   ],
   "source": [
    "page = widgets.HBox([vbox_text])\n",
    "display(page)"
   ]
  },
  {
   "cell_type": "code",
   "execution_count": null,
   "id": "according-supervisor",
   "metadata": {},
   "outputs": [],
   "source": []
  }
 ],
 "metadata": {
  "kernelspec": {
   "display_name": "Python 3 (ipykernel)",
   "language": "python",
   "name": "python3"
  },
  "language_info": {
   "codemirror_mode": {
    "name": "ipython",
    "version": 3
   },
   "file_extension": ".py",
   "mimetype": "text/x-python",
   "name": "python",
   "nbconvert_exporter": "python",
   "pygments_lexer": "ipython3",
   "version": "3.10.5"
  }
 },
 "nbformat": 4,
 "nbformat_minor": 5
}
